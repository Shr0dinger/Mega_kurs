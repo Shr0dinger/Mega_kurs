{
 "cells": [
  {
   "cell_type": "markdown",
   "id": "20a05989",
   "metadata": {},
   "source": [
    "### Курсовая работа Мегафон."
   ]
  },
  {
   "cell_type": "markdown",
   "id": "1443905f",
   "metadata": {},
   "source": [
    "#### Загрузка датасета с признаками с помощью DASK:"
   ]
  },
  {
   "cell_type": "code",
   "execution_count": 1,
   "id": "61a16d77",
   "metadata": {},
   "outputs": [],
   "source": [
    "import dask.dataframe as dd\n",
    "df_features = dd.read_csv('features.csv', delimiter='\\t')"
   ]
  },
  {
   "cell_type": "markdown",
   "id": "4659d5e2",
   "metadata": {},
   "source": [
    "#### Обор датасета с признаками:"
   ]
  },
  {
   "cell_type": "code",
   "execution_count": 2,
   "id": "2f740060",
   "metadata": {},
   "outputs": [
    {
     "data": {
      "text/html": [
       "<div>\n",
       "<style scoped>\n",
       "    .dataframe tbody tr th:only-of-type {\n",
       "        vertical-align: middle;\n",
       "    }\n",
       "\n",
       "    .dataframe tbody tr th {\n",
       "        vertical-align: top;\n",
       "    }\n",
       "\n",
       "    .dataframe thead th {\n",
       "        text-align: right;\n",
       "    }\n",
       "</style>\n",
       "<table border=\"1\" class=\"dataframe\">\n",
       "  <thead>\n",
       "    <tr style=\"text-align: right;\">\n",
       "      <th></th>\n",
       "      <th>Unnamed: 0</th>\n",
       "      <th>id</th>\n",
       "      <th>buy_time</th>\n",
       "      <th>0</th>\n",
       "      <th>1</th>\n",
       "      <th>2</th>\n",
       "      <th>3</th>\n",
       "      <th>4</th>\n",
       "      <th>5</th>\n",
       "      <th>6</th>\n",
       "      <th>...</th>\n",
       "      <th>243</th>\n",
       "      <th>244</th>\n",
       "      <th>245</th>\n",
       "      <th>246</th>\n",
       "      <th>247</th>\n",
       "      <th>248</th>\n",
       "      <th>249</th>\n",
       "      <th>250</th>\n",
       "      <th>251</th>\n",
       "      <th>252</th>\n",
       "    </tr>\n",
       "  </thead>\n",
       "  <tbody>\n",
       "    <tr>\n",
       "      <th>0</th>\n",
       "      <td>0</td>\n",
       "      <td>2013026</td>\n",
       "      <td>1531688400</td>\n",
       "      <td>18.910029</td>\n",
       "      <td>46.980888</td>\n",
       "      <td>4.969214</td>\n",
       "      <td>-1.386798</td>\n",
       "      <td>3.791754</td>\n",
       "      <td>-14.01179</td>\n",
       "      <td>-16.08618</td>\n",
       "      <td>...</td>\n",
       "      <td>-977.373846</td>\n",
       "      <td>-613.770792</td>\n",
       "      <td>-25.996269</td>\n",
       "      <td>-37.630448</td>\n",
       "      <td>-301.747724</td>\n",
       "      <td>-25.832889</td>\n",
       "      <td>-0.694428</td>\n",
       "      <td>-12.175933</td>\n",
       "      <td>-0.45614</td>\n",
       "      <td>0.0</td>\n",
       "    </tr>\n",
       "    <tr>\n",
       "      <th>1</th>\n",
       "      <td>1</td>\n",
       "      <td>2014722</td>\n",
       "      <td>1539550800</td>\n",
       "      <td>36.690029</td>\n",
       "      <td>152.400888</td>\n",
       "      <td>448.069214</td>\n",
       "      <td>563.833202</td>\n",
       "      <td>463.841754</td>\n",
       "      <td>568.99821</td>\n",
       "      <td>-16.08618</td>\n",
       "      <td>...</td>\n",
       "      <td>-891.373846</td>\n",
       "      <td>-544.770792</td>\n",
       "      <td>-20.996269</td>\n",
       "      <td>48.369552</td>\n",
       "      <td>80.252276</td>\n",
       "      <td>-13.832889</td>\n",
       "      <td>-0.694428</td>\n",
       "      <td>-1.175933</td>\n",
       "      <td>-0.45614</td>\n",
       "      <td>0.0</td>\n",
       "    </tr>\n",
       "    <tr>\n",
       "      <th>2</th>\n",
       "      <td>2</td>\n",
       "      <td>2015199</td>\n",
       "      <td>1545598800</td>\n",
       "      <td>-67.019971</td>\n",
       "      <td>157.050888</td>\n",
       "      <td>-63.180786</td>\n",
       "      <td>178.103202</td>\n",
       "      <td>-68.598246</td>\n",
       "      <td>156.99821</td>\n",
       "      <td>3.51382</td>\n",
       "      <td>...</td>\n",
       "      <td>-977.373846</td>\n",
       "      <td>-613.770792</td>\n",
       "      <td>-12.996269</td>\n",
       "      <td>-37.630448</td>\n",
       "      <td>10829.252276</td>\n",
       "      <td>-25.832889</td>\n",
       "      <td>-0.694428</td>\n",
       "      <td>-12.175933</td>\n",
       "      <td>-0.45614</td>\n",
       "      <td>0.0</td>\n",
       "    </tr>\n",
       "    <tr>\n",
       "      <th>3</th>\n",
       "      <td>3</td>\n",
       "      <td>2021765</td>\n",
       "      <td>1534107600</td>\n",
       "      <td>7.010029</td>\n",
       "      <td>150.200888</td>\n",
       "      <td>-6.930786</td>\n",
       "      <td>216.213202</td>\n",
       "      <td>76.621754</td>\n",
       "      <td>351.84821</td>\n",
       "      <td>-16.08618</td>\n",
       "      <td>...</td>\n",
       "      <td>-973.373846</td>\n",
       "      <td>-613.770792</td>\n",
       "      <td>-23.996269</td>\n",
       "      <td>-37.630448</td>\n",
       "      <td>-205.747724</td>\n",
       "      <td>-24.832889</td>\n",
       "      <td>-0.694428</td>\n",
       "      <td>-11.175933</td>\n",
       "      <td>-0.45614</td>\n",
       "      <td>1.0</td>\n",
       "    </tr>\n",
       "    <tr>\n",
       "      <th>4</th>\n",
       "      <td>4</td>\n",
       "      <td>2027465</td>\n",
       "      <td>1533502800</td>\n",
       "      <td>-90.439971</td>\n",
       "      <td>134.220888</td>\n",
       "      <td>-104.380786</td>\n",
       "      <td>153.643202</td>\n",
       "      <td>-109.798246</td>\n",
       "      <td>132.53821</td>\n",
       "      <td>-16.08618</td>\n",
       "      <td>...</td>\n",
       "      <td>1643.626154</td>\n",
       "      <td>2007.229208</td>\n",
       "      <td>206.003731</td>\n",
       "      <td>-21.630448</td>\n",
       "      <td>6667.252276</td>\n",
       "      <td>92.167111</td>\n",
       "      <td>-0.694428</td>\n",
       "      <td>49.824067</td>\n",
       "      <td>47.54386</td>\n",
       "      <td>0.0</td>\n",
       "    </tr>\n",
       "  </tbody>\n",
       "</table>\n",
       "<p>5 rows × 256 columns</p>\n",
       "</div>"
      ],
      "text/plain": [
       "   Unnamed: 0       id    buy_time          0           1           2  \\\n",
       "0           0  2013026  1531688400  18.910029   46.980888    4.969214   \n",
       "1           1  2014722  1539550800  36.690029  152.400888  448.069214   \n",
       "2           2  2015199  1545598800 -67.019971  157.050888  -63.180786   \n",
       "3           3  2021765  1534107600   7.010029  150.200888   -6.930786   \n",
       "4           4  2027465  1533502800 -90.439971  134.220888 -104.380786   \n",
       "\n",
       "            3           4          5         6  ...          243          244  \\\n",
       "0   -1.386798    3.791754  -14.01179 -16.08618  ...  -977.373846  -613.770792   \n",
       "1  563.833202  463.841754  568.99821 -16.08618  ...  -891.373846  -544.770792   \n",
       "2  178.103202  -68.598246  156.99821   3.51382  ...  -977.373846  -613.770792   \n",
       "3  216.213202   76.621754  351.84821 -16.08618  ...  -973.373846  -613.770792   \n",
       "4  153.643202 -109.798246  132.53821 -16.08618  ...  1643.626154  2007.229208   \n",
       "\n",
       "          245        246           247        248       249        250  \\\n",
       "0  -25.996269 -37.630448   -301.747724 -25.832889 -0.694428 -12.175933   \n",
       "1  -20.996269  48.369552     80.252276 -13.832889 -0.694428  -1.175933   \n",
       "2  -12.996269 -37.630448  10829.252276 -25.832889 -0.694428 -12.175933   \n",
       "3  -23.996269 -37.630448   -205.747724 -24.832889 -0.694428 -11.175933   \n",
       "4  206.003731 -21.630448   6667.252276  92.167111 -0.694428  49.824067   \n",
       "\n",
       "        251  252  \n",
       "0  -0.45614  0.0  \n",
       "1  -0.45614  0.0  \n",
       "2  -0.45614  0.0  \n",
       "3  -0.45614  1.0  \n",
       "4  47.54386  0.0  \n",
       "\n",
       "[5 rows x 256 columns]"
      ]
     },
     "execution_count": 2,
     "metadata": {},
     "output_type": "execute_result"
    }
   ],
   "source": [
    "df_features.head()"
   ]
  },
  {
   "cell_type": "code",
   "execution_count": 3,
   "id": "95e6419d",
   "metadata": {},
   "outputs": [
    {
     "name": "stdout",
     "output_type": "stream",
     "text": [
      "Размерность датасета\n"
     ]
    },
    {
     "data": {
      "text/plain": [
       "(4512528, 256)"
      ]
     },
     "execution_count": 3,
     "metadata": {},
     "output_type": "execute_result"
    }
   ],
   "source": [
    "print('Размерность датасета')\n",
    "t = df_features.shape\n",
    "t[0].compute(), t[1]"
   ]
  },
  {
   "cell_type": "markdown",
   "id": "fb370f94",
   "metadata": {},
   "source": [
    "#### Загрузка и обзор тренировочного и тестового датасетов:"
   ]
  },
  {
   "cell_type": "code",
   "execution_count": 4,
   "id": "fdfab24c",
   "metadata": {},
   "outputs": [
    {
     "data": {
      "text/html": [
       "<div>\n",
       "<style scoped>\n",
       "    .dataframe tbody tr th:only-of-type {\n",
       "        vertical-align: middle;\n",
       "    }\n",
       "\n",
       "    .dataframe tbody tr th {\n",
       "        vertical-align: top;\n",
       "    }\n",
       "\n",
       "    .dataframe thead th {\n",
       "        text-align: right;\n",
       "    }\n",
       "</style>\n",
       "<table border=\"1\" class=\"dataframe\">\n",
       "  <thead>\n",
       "    <tr style=\"text-align: right;\">\n",
       "      <th></th>\n",
       "      <th>Unnamed: 0</th>\n",
       "      <th>id</th>\n",
       "      <th>vas_id</th>\n",
       "      <th>buy_time</th>\n",
       "      <th>target</th>\n",
       "    </tr>\n",
       "  </thead>\n",
       "  <tbody>\n",
       "    <tr>\n",
       "      <th>0</th>\n",
       "      <td>0</td>\n",
       "      <td>540968</td>\n",
       "      <td>8.0</td>\n",
       "      <td>1537131600</td>\n",
       "      <td>0.0</td>\n",
       "    </tr>\n",
       "    <tr>\n",
       "      <th>1</th>\n",
       "      <td>1</td>\n",
       "      <td>1454121</td>\n",
       "      <td>4.0</td>\n",
       "      <td>1531688400</td>\n",
       "      <td>0.0</td>\n",
       "    </tr>\n",
       "    <tr>\n",
       "      <th>2</th>\n",
       "      <td>2</td>\n",
       "      <td>2458816</td>\n",
       "      <td>1.0</td>\n",
       "      <td>1534107600</td>\n",
       "      <td>0.0</td>\n",
       "    </tr>\n",
       "    <tr>\n",
       "      <th>3</th>\n",
       "      <td>3</td>\n",
       "      <td>3535012</td>\n",
       "      <td>5.0</td>\n",
       "      <td>1535922000</td>\n",
       "      <td>0.0</td>\n",
       "    </tr>\n",
       "    <tr>\n",
       "      <th>4</th>\n",
       "      <td>4</td>\n",
       "      <td>1693214</td>\n",
       "      <td>1.0</td>\n",
       "      <td>1535922000</td>\n",
       "      <td>0.0</td>\n",
       "    </tr>\n",
       "  </tbody>\n",
       "</table>\n",
       "</div>"
      ],
      "text/plain": [
       "   Unnamed: 0       id  vas_id    buy_time  target\n",
       "0           0   540968     8.0  1537131600     0.0\n",
       "1           1  1454121     4.0  1531688400     0.0\n",
       "2           2  2458816     1.0  1534107600     0.0\n",
       "3           3  3535012     5.0  1535922000     0.0\n",
       "4           4  1693214     1.0  1535922000     0.0"
      ]
     },
     "execution_count": 4,
     "metadata": {},
     "output_type": "execute_result"
    }
   ],
   "source": [
    "import pandas as pd\n",
    "df_train = pd.read_csv('data_train.csv')\n",
    "df_train.head()"
   ]
  },
  {
   "cell_type": "code",
   "execution_count": 5,
   "id": "25870dcb",
   "metadata": {},
   "outputs": [
    {
     "name": "stdout",
     "output_type": "stream",
     "text": [
      "<class 'pandas.core.frame.DataFrame'>\n",
      "RangeIndex: 831653 entries, 0 to 831652\n",
      "Data columns (total 5 columns):\n",
      " #   Column      Non-Null Count   Dtype  \n",
      "---  ------      --------------   -----  \n",
      " 0   Unnamed: 0  831653 non-null  int64  \n",
      " 1   id          831653 non-null  int64  \n",
      " 2   vas_id      831653 non-null  float64\n",
      " 3   buy_time    831653 non-null  int64  \n",
      " 4   target      831653 non-null  float64\n",
      "dtypes: float64(2), int64(3)\n",
      "memory usage: 31.7 MB\n"
     ]
    }
   ],
   "source": [
    "df_train.info()"
   ]
  },
  {
   "cell_type": "code",
   "execution_count": 6,
   "id": "f512097d",
   "metadata": {},
   "outputs": [
    {
     "data": {
      "text/plain": [
       "array([8., 4., 1., 5., 2., 7., 6., 9.])"
      ]
     },
     "execution_count": 6,
     "metadata": {},
     "output_type": "execute_result"
    }
   ],
   "source": [
    "df_train['vas_id'].unique()"
   ]
  },
  {
   "cell_type": "code",
   "execution_count": 7,
   "id": "28723e4b",
   "metadata": {},
   "outputs": [
    {
     "data": {
      "text/html": [
       "<div>\n",
       "<style scoped>\n",
       "    .dataframe tbody tr th:only-of-type {\n",
       "        vertical-align: middle;\n",
       "    }\n",
       "\n",
       "    .dataframe tbody tr th {\n",
       "        vertical-align: top;\n",
       "    }\n",
       "\n",
       "    .dataframe thead th {\n",
       "        text-align: right;\n",
       "    }\n",
       "</style>\n",
       "<table border=\"1\" class=\"dataframe\">\n",
       "  <thead>\n",
       "    <tr style=\"text-align: right;\">\n",
       "      <th></th>\n",
       "      <th>Unnamed: 0</th>\n",
       "      <th>id</th>\n",
       "      <th>vas_id</th>\n",
       "      <th>buy_time</th>\n",
       "    </tr>\n",
       "  </thead>\n",
       "  <tbody>\n",
       "    <tr>\n",
       "      <th>0</th>\n",
       "      <td>0</td>\n",
       "      <td>3130519</td>\n",
       "      <td>2.0</td>\n",
       "      <td>1548018000</td>\n",
       "    </tr>\n",
       "    <tr>\n",
       "      <th>1</th>\n",
       "      <td>1</td>\n",
       "      <td>2000860</td>\n",
       "      <td>4.0</td>\n",
       "      <td>1548018000</td>\n",
       "    </tr>\n",
       "    <tr>\n",
       "      <th>2</th>\n",
       "      <td>2</td>\n",
       "      <td>1099444</td>\n",
       "      <td>2.0</td>\n",
       "      <td>1546808400</td>\n",
       "    </tr>\n",
       "    <tr>\n",
       "      <th>3</th>\n",
       "      <td>3</td>\n",
       "      <td>1343255</td>\n",
       "      <td>5.0</td>\n",
       "      <td>1547413200</td>\n",
       "    </tr>\n",
       "    <tr>\n",
       "      <th>4</th>\n",
       "      <td>4</td>\n",
       "      <td>1277040</td>\n",
       "      <td>2.0</td>\n",
       "      <td>1546808400</td>\n",
       "    </tr>\n",
       "  </tbody>\n",
       "</table>\n",
       "</div>"
      ],
      "text/plain": [
       "   Unnamed: 0       id  vas_id    buy_time\n",
       "0           0  3130519     2.0  1548018000\n",
       "1           1  2000860     4.0  1548018000\n",
       "2           2  1099444     2.0  1546808400\n",
       "3           3  1343255     5.0  1547413200\n",
       "4           4  1277040     2.0  1546808400"
      ]
     },
     "execution_count": 7,
     "metadata": {},
     "output_type": "execute_result"
    }
   ],
   "source": [
    "df_test = pd.read_csv('data_test.csv')\n",
    "df_test.head()"
   ]
  },
  {
   "cell_type": "code",
   "execution_count": 8,
   "id": "ac78b956",
   "metadata": {},
   "outputs": [
    {
     "name": "stdout",
     "output_type": "stream",
     "text": [
      "<class 'pandas.core.frame.DataFrame'>\n",
      "RangeIndex: 71231 entries, 0 to 71230\n",
      "Data columns (total 4 columns):\n",
      " #   Column      Non-Null Count  Dtype  \n",
      "---  ------      --------------  -----  \n",
      " 0   Unnamed: 0  71231 non-null  int64  \n",
      " 1   id          71231 non-null  int64  \n",
      " 2   vas_id      71231 non-null  float64\n",
      " 3   buy_time    71231 non-null  int64  \n",
      "dtypes: float64(1), int64(3)\n",
      "memory usage: 2.2 MB\n"
     ]
    }
   ],
   "source": [
    "df_test.info()"
   ]
  },
  {
   "cell_type": "markdown",
   "id": "d1f2d23e",
   "metadata": {},
   "source": [
    "#### Видно, что отсутствующих значений нет, но есть столбец \"Unnamed: 0\", который является дублирующим индексом во всех трех датасетах. Избавляемся от него:"
   ]
  },
  {
   "cell_type": "code",
   "execution_count": 9,
   "id": "8e39043e",
   "metadata": {},
   "outputs": [],
   "source": [
    "df_features = df_features.drop('Unnamed: 0', axis=1)\n",
    "df_train = df_train.drop('Unnamed: 0', axis=1)\n",
    "df_test = df_test.drop('Unnamed: 0', axis=1)"
   ]
  },
  {
   "cell_type": "markdown",
   "id": "1f677700",
   "metadata": {},
   "source": [
    "#### В датасетах присутствует временной ряд. Посмотрим самую старую и самую новую дату:"
   ]
  },
  {
   "cell_type": "code",
   "execution_count": 10,
   "id": "212fbcdf",
   "metadata": {},
   "outputs": [],
   "source": [
    "import time\n",
    "from datetime import datetime"
   ]
  },
  {
   "cell_type": "code",
   "execution_count": 11,
   "id": "70deb80a",
   "metadata": {},
   "outputs": [
    {
     "name": "stdout",
     "output_type": "stream",
     "text": [
      "2018-07-09 00:00:00\n",
      "2018-12-31 00:00:00\n"
     ]
    }
   ],
   "source": [
    "print(datetime.fromtimestamp(df_train['buy_time'].min()).strftime('%Y-%m-%d %H:%M:%S'))\n",
    "print(datetime.fromtimestamp(df_train['buy_time'].max()).strftime('%Y-%m-%d %H:%M:%S'))"
   ]
  },
  {
   "cell_type": "code",
   "execution_count": 12,
   "id": "956df6c7",
   "metadata": {},
   "outputs": [
    {
     "name": "stdout",
     "output_type": "stream",
     "text": [
      "2018-07-09 00:00:00\n",
      "2019-01-21 00:00:00\n"
     ]
    }
   ],
   "source": [
    "print(datetime.fromtimestamp(df_features['buy_time'].min().compute()).strftime('%Y-%m-%d %H:%M:%S'))\n",
    "print(datetime.fromtimestamp(df_features['buy_time'].max().compute()).strftime('%Y-%m-%d %H:%M:%S'))"
   ]
  },
  {
   "cell_type": "markdown",
   "id": "124f24b3",
   "metadata": {},
   "source": [
    "#### Проведем анализ признака \"vas_id\" тренировочного датасета, отвечающего за тип услуги:"
   ]
  },
  {
   "cell_type": "code",
   "execution_count": 13,
   "id": "119ed765",
   "metadata": {},
   "outputs": [
    {
     "data": {
      "text/plain": [
       "1.0    310175\n",
       "2.0    249505\n",
       "4.0     85756\n",
       "5.0     94085\n",
       "6.0     57878\n",
       "7.0     15432\n",
       "8.0     13350\n",
       "9.0      5472\n",
       "Name: vas_id, dtype: int64"
      ]
     },
     "execution_count": 13,
     "metadata": {},
     "output_type": "execute_result"
    }
   ],
   "source": [
    "df_train['vas_id'].value_counts().sort_index()"
   ]
  },
  {
   "cell_type": "code",
   "execution_count": 14,
   "id": "f7116ee4",
   "metadata": {},
   "outputs": [
    {
     "data": {
      "text/plain": [
       "1.0     5664\n",
       "2.0     4797\n",
       "4.0    21765\n",
       "5.0     1692\n",
       "6.0    24704\n",
       "7.0      213\n",
       "8.0      347\n",
       "9.0     1004\n",
       "Name: vas_id, dtype: int64"
      ]
     },
     "execution_count": 14,
     "metadata": {},
     "output_type": "execute_result"
    }
   ],
   "source": [
    "df_train.loc[(df_train['target']==1, 'vas_id') ].value_counts().sort_index()"
   ]
  },
  {
   "cell_type": "code",
   "execution_count": 15,
   "id": "95e2066d",
   "metadata": {},
   "outputs": [
    {
     "data": {
      "text/plain": [
       "1.0    304511\n",
       "2.0    244708\n",
       "4.0     63991\n",
       "5.0     92393\n",
       "6.0     33174\n",
       "7.0     15219\n",
       "8.0     13003\n",
       "9.0      4468\n",
       "Name: vas_id, dtype: int64"
      ]
     },
     "execution_count": 15,
     "metadata": {},
     "output_type": "execute_result"
    }
   ],
   "source": [
    "df_train.loc[(df_train['target']==0, 'vas_id') ].value_counts().sort_index()"
   ]
  },
  {
   "cell_type": "markdown",
   "id": "ad987a07",
   "metadata": {},
   "source": [
    "#### Видно, что самые предлагаемые услуги - 1 и 2, но они лидируют и по отказам подключений. А самые подключаемые - 4 и 6."
   ]
  },
  {
   "cell_type": "markdown",
   "id": "9bf59f1c",
   "metadata": {},
   "source": [
    "#### Построим график количества предложений каждой услуги на всем временном ряду:"
   ]
  },
  {
   "cell_type": "code",
   "execution_count": 16,
   "id": "a415ec91",
   "metadata": {},
   "outputs": [
    {
     "data": {
      "image/png": "[encoded data removed]",
      "text/plain": [
       "<Figure size 1080x720 with 1 Axes>"
      ]
     },
     "metadata": {
      "needs_background": "light"
     },
     "output_type": "display_data"
    }
   ],
   "source": [
    "import matplotlib.pyplot as plt \n",
    "\n",
    "plt.figure(figsize=(15,10))\n",
    "plt.plot(df_train.loc[(df_train['vas_id']==1, 'buy_time') ].value_counts().sort_index(),label='vas_id=1')\n",
    "plt.plot(df_train.loc[(df_train['vas_id']==2, 'buy_time') ].value_counts().sort_index(),label='vas_id=2')\n",
    "plt.plot(df_train.loc[(df_train['vas_id']==4, 'buy_time') ].value_counts().sort_index(),':',label='vas_id=4')\n",
    "plt.plot(df_train.loc[(df_train['vas_id']==5, 'buy_time') ].value_counts().sort_index(),label='vas_id=5')\n",
    "plt.plot(df_train.loc[(df_train['vas_id']==6, 'buy_time') ].value_counts().sort_index(),':',label='vas_id=6')\n",
    "plt.plot(df_train.loc[(df_train['vas_id']==7, 'buy_time') ].value_counts().sort_index(),'--',label='vas_id=7')\n",
    "plt.plot(df_train.loc[(df_train['vas_id']==8, 'buy_time') ].value_counts().sort_index(),'--',label='vas_id=8')\n",
    "plt.plot(df_train.loc[(df_train['vas_id']==9, 'buy_time') ].value_counts().sort_index(),'--',label='vas_id=9')\n",
    "plt.minorticks_on()\n",
    "plt.grid(which='major')\n",
    "plt.legend()\n",
    "plt.show()"
   ]
  },
  {
   "cell_type": "markdown",
   "id": "20882482",
   "metadata": {},
   "source": [
    "#### Из графиков видно, что активнее всего услуги предлагают в начале временного ряда и в конце, что соответствует середине (2018-07-09) и концу (2018-12-31) 2018 года. Непопулярные к предложению услуги отмечены пунктиром. Самые подключаемые - точками."
   ]
  },
  {
   "cell_type": "markdown",
   "id": "61189ccf",
   "metadata": {},
   "source": [
    "#### Проанализируем target: "
   ]
  },
  {
   "cell_type": "code",
   "execution_count": 17,
   "id": "4929d587",
   "metadata": {},
   "outputs": [
    {
     "data": {
      "text/plain": [
       "1542574800    15418\n",
       "1544994000     7802\n",
       "1544389200     5616\n",
       "1545598800     3786\n",
       "1546203600     3495\n",
       "1543179600     2348\n",
       "1531688400     1553\n",
       "1543784400     1503\n",
       "1540760400     1484\n",
       "1541365200     1435\n",
       "1533502800     1360\n",
       "1532293200     1320\n",
       "1541970000     1283\n",
       "1532898000     1230\n",
       "1540155600     1092\n",
       "1534107600     1053\n",
       "1534712400      955\n",
       "1539550800      932\n",
       "1538946000      929\n",
       "1535922000      900\n",
       "1538341200      871\n",
       "1537131600      864\n",
       "1536526800      853\n",
       "1537736400      797\n",
       "1535317200      750\n",
       "1531083600      557\n",
       "Name: buy_time, dtype: int64"
      ]
     },
     "execution_count": 17,
     "metadata": {},
     "output_type": "execute_result"
    }
   ],
   "source": [
    "df_train.loc[(df_train['target']==1, 'buy_time') ].value_counts()"
   ]
  },
  {
   "cell_type": "code",
   "execution_count": 18,
   "id": "3c8e2f3a",
   "metadata": {},
   "outputs": [
    {
     "name": "stdout",
     "output_type": "stream",
     "text": [
      "2018-11-19 00:00:00\n"
     ]
    }
   ],
   "source": [
    "print(datetime.fromtimestamp(1542574800).strftime('%Y-%m-%d %H:%M:%S'))"
   ]
  },
  {
   "cell_type": "code",
   "execution_count": 19,
   "id": "963da330",
   "metadata": {},
   "outputs": [
    {
     "data": {
      "text/plain": [
       "{'whiskers': [<matplotlib.lines.Line2D at 0x180835ca6b0>,\n",
       "  <matplotlib.lines.Line2D at 0x180835c9180>],\n",
       " 'caps': [<matplotlib.lines.Line2D at 0x180835cabf0>,\n",
       "  <matplotlib.lines.Line2D at 0x180835cae00>],\n",
       " 'boxes': [<matplotlib.lines.Line2D at 0x180835ca3e0>],\n",
       " 'medians': [<matplotlib.lines.Line2D at 0x180835cb0d0>],\n",
       " 'fliers': [<matplotlib.lines.Line2D at 0x180835cb3a0>],\n",
       " 'means': []}"
      ]
     },
     "execution_count": 19,
     "metadata": {},
     "output_type": "execute_result"
    },
    {
     "data": {
      "image/png": "[encoded data removed]",
      "text/plain": [
       "<Figure size 432x288 with 1 Axes>"
      ]
     },
     "metadata": {
      "needs_background": "light"
     },
     "output_type": "display_data"
    }
   ],
   "source": [
    "plt.boxplot(df_train.loc[(df_train['target']==1, 'buy_time') ].value_counts().sort_index())"
   ]
  },
  {
   "cell_type": "markdown",
   "id": "816627fc",
   "metadata": {},
   "source": [
    "#### Из вычислений и BoxPlot видно аномально высокое общее количество подключаемых услуг в дату 2018-11-19.  Даже если ошибок в данных нет, для обучения модели такие показатели можно считать выбросом."
   ]
  },
  {
   "cell_type": "markdown",
   "id": "9df07143",
   "metadata": {},
   "source": [
    "#### Для обучения модели необходимо соединить датасеты. Но сначала необходимо проверить на соответствие колонку ID:"
   ]
  },
  {
   "cell_type": "code",
   "execution_count": 20,
   "id": "3b13e493",
   "metadata": {},
   "outputs": [
    {
     "data": {
      "text/plain": [
       "806613"
      ]
     },
     "execution_count": 20,
     "metadata": {},
     "output_type": "execute_result"
    }
   ],
   "source": [
    "df_train['id'].nunique()"
   ]
  },
  {
   "cell_type": "code",
   "execution_count": 21,
   "id": "18fe7c19",
   "metadata": {},
   "outputs": [
    {
     "data": {
      "text/plain": [
       "4362739"
      ]
     },
     "execution_count": 21,
     "metadata": {},
     "output_type": "execute_result"
    }
   ],
   "source": [
    "df_features['id'].nunique().compute()"
   ]
  },
  {
   "cell_type": "markdown",
   "id": "33de8706",
   "metadata": {},
   "source": [
    "#### Как мы видим, в тренировочном датасете уникальных пользователей существенно меньше, чем в датасете с признаками. Эти лишние пользователи никак нам не помогут при обучении, поэтому приводим данные в соответствие друг с другом, в том числе и по дате, и соединяем датасеты: "
   ]
  },
  {
   "cell_type": "markdown",
   "id": "7ed52e72",
   "metadata": {},
   "source": [
    "#### Преобразование тренировочного датасета и запись в файл:"
   ]
  },
  {
   "cell_type": "code",
   "execution_count": 22,
   "id": "c8d17144",
   "metadata": {},
   "outputs": [],
   "source": [
    "df_train_id = df_train['id'].unique()\n",
    "df_features = df_features.compute()\n",
    "df_features = df_features.loc[(df_features['id'].isin(df_train_id))]"
   ]
  },
  {
   "cell_type": "code",
   "execution_count": 23,
   "id": "8b068f0d",
   "metadata": {},
   "outputs": [],
   "source": [
    "df_train = df_train.sort_index()\n",
    "df_train = df_train.sort_values(by=\"buy_time\")\n",
    "df_features = df_features.sort_values(by=\"buy_time\")"
   ]
  },
  {
   "cell_type": "code",
   "execution_count": 24,
   "id": "44a95163",
   "metadata": {},
   "outputs": [],
   "source": [
    "df_train_full = pd.merge_asof(df_train, df_features, on='buy_time', by='id')"
   ]
  },
  {
   "cell_type": "code",
   "execution_count": 25,
   "id": "1cfc90fb",
   "metadata": {},
   "outputs": [],
   "source": [
    "df_train_full.to_csv('df_train_full.csv', index=False)"
   ]
  },
  {
   "cell_type": "markdown",
   "id": "22b3e43d",
   "metadata": {},
   "source": [
    "#### Преобразование датасета для предсказаний и запись в файл:"
   ]
  },
  {
   "cell_type": "code",
   "execution_count": 26,
   "id": "fb66b245",
   "metadata": {},
   "outputs": [],
   "source": [
    "df_features = dd.read_csv('features.csv', delimiter='\\t')"
   ]
  },
  {
   "cell_type": "code",
   "execution_count": 27,
   "id": "51092bcc",
   "metadata": {},
   "outputs": [],
   "source": [
    "df_test_id = df_test['id'].unique()\n",
    "df_features = df_features.compute()\n",
    "df_features = df_features.loc[(df_features['id'].isin(df_test_id))]"
   ]
  },
  {
   "cell_type": "code",
   "execution_count": 28,
   "id": "050a53c4",
   "metadata": {},
   "outputs": [],
   "source": [
    "df_test = df_test.sort_index()\n",
    "df_test = df_test.sort_values(by=\"buy_time\")\n",
    "df_features = df_features.sort_values(by=\"buy_time\")"
   ]
  },
  {
   "cell_type": "code",
   "execution_count": 29,
   "id": "b4f10d04",
   "metadata": {},
   "outputs": [],
   "source": [
    "df_test_full = pd.merge_asof(df_test, df_features, on='buy_time', by='id')"
   ]
  },
  {
   "cell_type": "code",
   "execution_count": 30,
   "id": "1ec41b2a",
   "metadata": {},
   "outputs": [],
   "source": [
    "df_test_full = df_test_full.drop('Unnamed: 0', axis=1)"
   ]
  },
  {
   "cell_type": "code",
   "execution_count": 31,
   "id": "d43c361b",
   "metadata": {},
   "outputs": [],
   "source": [
    "df_test_full.to_csv('df_test_full.csv', index=False)"
   ]
  },
  {
   "cell_type": "markdown",
   "id": "8581e2ab",
   "metadata": {},
   "source": [
    "### Загрузка подготовленных данных:"
   ]
  },
  {
   "cell_type": "code",
   "execution_count": 32,
   "id": "4ef1e70d",
   "metadata": {},
   "outputs": [],
   "source": [
    "import pandas as pd\n",
    "import catboost as catb\n",
    "from sklearn.metrics import classification_report, f1_score, precision_score, recall_score\n",
    "\n",
    "df_train_full = pd.read_csv('df_train_full.csv')"
   ]
  },
  {
   "cell_type": "markdown",
   "id": "2af0a8e4",
   "metadata": {},
   "source": [
    "#### Разделение данных:"
   ]
  },
  {
   "cell_type": "code",
   "execution_count": 33,
   "id": "f39edd85",
   "metadata": {},
   "outputs": [],
   "source": [
    "X = df_train_full.drop('target', axis=1)\n",
    "y = df_train_full['target']"
   ]
  },
  {
   "cell_type": "code",
   "execution_count": 34,
   "id": "5f726a6a",
   "metadata": {},
   "outputs": [],
   "source": [
    "from sklearn.model_selection import train_test_split\n",
    "X_train, X_test, y_train, y_test = train_test_split(X, y, test_size=0.33, shuffle=True, random_state=42)"
   ]
  },
  {
   "cell_type": "code",
   "execution_count": 35,
   "id": "55c48a8a",
   "metadata": {},
   "outputs": [],
   "source": [
    "def get_classification_report(y_train_true, y_train_pred, y_test_true, y_test_pred):\n",
    "    print('TRAIN\\n\\n' + classification_report(y_train_true, y_train_pred))\n",
    "    print('TEST\\n\\n' + classification_report(y_test_true, y_test_pred))\n",
    "    print('CONFUSION MATRIX\\n')\n",
    "    print(pd.crosstab(y_test_true, y_test_pred))"
   ]
  },
  {
   "cell_type": "markdown",
   "id": "e6cebf32",
   "metadata": {},
   "source": [
    "#### Обучение модели:"
   ]
  },
  {
   "cell_type": "code",
   "execution_count": 46,
   "id": "a5c9cfc5",
   "metadata": {},
   "outputs": [],
   "source": [
    "model_catb = catb.CatBoostClassifier(silent = True, \n",
    "                                     loss_function='Logloss',\n",
    "                                     eval_metric='Accuracy',\n",
    "                                     auto_class_weights=None,\n",
    "                                     random_state=42)"
   ]
  },
  {
   "cell_type": "code",
   "execution_count": 47,
   "id": "ad0b69c1",
   "metadata": {},
   "outputs": [
    {
     "name": "stdout",
     "output_type": "stream",
     "text": [
      "TRAIN\n",
      "\n",
      "              precision    recall  f1-score   support\n",
      "\n",
      "         0.0       0.96      0.99      0.97    516922\n",
      "         1.0       0.80      0.40      0.54     40285\n",
      "\n",
      "    accuracy                           0.95    557207\n",
      "   macro avg       0.88      0.70      0.76    557207\n",
      "weighted avg       0.94      0.95      0.94    557207\n",
      "\n",
      "TEST\n",
      "\n",
      "              precision    recall  f1-score   support\n",
      "\n",
      "         0.0       0.95      0.99      0.97    254545\n",
      "         1.0       0.64      0.30      0.41     19901\n",
      "\n",
      "    accuracy                           0.94    274446\n",
      "   macro avg       0.79      0.64      0.69    274446\n",
      "weighted avg       0.92      0.94      0.93    274446\n",
      "\n",
      "CONFUSION MATRIX\n",
      "\n",
      "col_0      0.0   1.0\n",
      "target              \n",
      "0.0     251140  3405\n",
      "1.0      13933  5968\n"
     ]
    }
   ],
   "source": [
    "model_catb.fit(X_train, y_train)\n",
    "\n",
    "y_train_pred = model_catb.predict(X_train)\n",
    "y_test_pred = model_catb.predict(X_test)\n",
    "\n",
    "get_classification_report(y_train, y_train_pred, y_test, y_test_pred)"
   ]
  },
  {
   "cell_type": "markdown",
   "id": "cce04380",
   "metadata": {},
   "source": [
    "#### Запись модели в файл:"
   ]
  },
  {
   "cell_type": "code",
   "execution_count": 48,
   "id": "d441e777",
   "metadata": {},
   "outputs": [],
   "source": [
    "import pickle\n",
    "\n",
    "pickle.dump(model_catb, open('megafon_catb_model.pickle', 'wb'))"
   ]
  },
  {
   "cell_type": "markdown",
   "id": "38fadc73",
   "metadata": {},
   "source": [
    "#### Загрузка подготовленных данных для предсказания:"
   ]
  },
  {
   "cell_type": "code",
   "execution_count": 49,
   "id": "6f3e6bce",
   "metadata": {},
   "outputs": [],
   "source": [
    "df_test = pd.read_csv('df_test_full.csv')"
   ]
  },
  {
   "cell_type": "markdown",
   "id": "41d2849b",
   "metadata": {},
   "source": [
    "#### Загрузка модели:"
   ]
  },
  {
   "cell_type": "code",
   "execution_count": 50,
   "id": "2ab9e17e",
   "metadata": {},
   "outputs": [],
   "source": [
    "loaded_model = pickle.load(open('megafon_catb_model.pickle', 'rb'))"
   ]
  },
  {
   "cell_type": "markdown",
   "id": "82efaf5a",
   "metadata": {},
   "source": [
    "#### Предсказание и запись результатов в датасет:"
   ]
  },
  {
   "cell_type": "code",
   "execution_count": 51,
   "id": "9a4be507",
   "metadata": {},
   "outputs": [],
   "source": [
    "predictions = loaded_model.predict(df_test)"
   ]
  },
  {
   "cell_type": "code",
   "execution_count": 52,
   "id": "cd0ffa2d",
   "metadata": {},
   "outputs": [],
   "source": [
    "final_predictions_file = pd.read_csv('data_test.csv')\n",
    "final_predictions_file = final_predictions_file.drop('Unnamed: 0', axis=1)\n",
    "final_predictions_file['target'] = predictions\n",
    "final_predictions_file.to_csv('answers_test.csv', index=False)"
   ]
  }
 ],
 "metadata": {
  "kernelspec": {
   "display_name": "Python 3 (ipykernel)",
   "language": "python",
   "name": "python3"
  },
  "language_info": {
   "codemirror_mode": {
    "name": "ipython",
    "version": 3
   },
   "file_extension": ".py",
   "mimetype": "text/x-python",
   "name": "python",
   "nbconvert_exporter": "python",
   "pygments_lexer": "ipython3",
   "version": "3.10.4"
  }
 },
 "nbformat": 4,
 "nbformat_minor": 5
}
